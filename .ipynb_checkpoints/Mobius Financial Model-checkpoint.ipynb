{
 "cells": [
  {
   "cell_type": "markdown",
   "metadata": {},
   "source": [
    "# Mobius Financial Model "
   ]
  },
  {
   "cell_type": "code",
   "execution_count": 1,
   "metadata": {},
   "outputs": [],
   "source": [
    "from ipywidgets import interact, interactive, fixed, interact_manual\n",
    "import ipywidgets as widgets\n",
    "\n",
    "import matplotlib.pyplot as plt\n",
    "%matplotlib inline\n",
    "\n",
    "from scipy.special import gamma\n",
    "import numpy as np"
   ]
  },
  {
   "cell_type": "code",
   "execution_count": 3,
   "metadata": {},
   "outputs": [
    {
     "data": {
      "application/vnd.jupyter.widget-view+json": {
       "model_id": "7eea4dae4b434a9b841964af5a1d6777",
       "version_major": 2,
       "version_minor": 0
      },
      "text/plain": [
       "interactive(children=(FloatSlider(value=5.0, description='avg_spent', max=5.0, min=1.0, step=0.2), FloatSlider…"
      ]
     },
     "metadata": {},
     "output_type": "display_data"
    },
    {
     "data": {
      "text/plain": [
       "<function __main__.fin_est(avg_spent, alp, bet)>"
      ]
     },
     "execution_count": 3,
     "metadata": {},
     "output_type": "execute_result"
    }
   ],
   "source": [
    "def fin_est(avg_spent,alp,bet):\n",
    "    B = (gamma(alp)*gamma(bet))/gamma(alp+bet)\n",
    "    x = np.linspace(0, 1)\n",
    "    X = 100*x\n",
    "    ex_1 = alp-1\n",
    "    ex_2 = bet-1\n",
    "    y = (x**(alp-1)*(1-x)**(bet-1))/(B)\n",
    "    plt.plot(X, y)\n",
    "\n",
    "interact(fin_est, avg_spent = widgets.FloatSlider(value=7.5,\n",
    "                                            min=1,\n",
    "                                            max=5.0,\n",
    "                                            step=0.2),\n",
    "        alp = widgets.FloatSlider(value=2,\n",
    "                                            min=0,\n",
    "                                            max=10,\n",
    "                                            step=0.5),\n",
    "        bet = widgets.FloatSlider(value=5,\n",
    "                                            min=0,\n",
    "                                            max=10.0,\n",
    "                                            step=0.5))"
   ]
  },
  {
   "cell_type": "code",
   "execution_count": null,
   "metadata": {},
   "outputs": [],
   "source": []
  },
  {
   "cell_type": "code",
   "execution_count": 2,
   "metadata": {},
   "outputs": [
    {
     "name": "stdout",
     "output_type": "stream",
     "text": [
      "^C\n",
      "Note: you may need to restart the kernel to use updated packages.\n"
     ]
    }
   ],
   "source": []
  }
 ],
 "metadata": {
  "kernelspec": {
   "display_name": "Python 3",
   "language": "python",
   "name": "python3"
  }
 },
 "nbformat": 4,
 "nbformat_minor": 2
}
