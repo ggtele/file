{
 "cells": [
  {
   "cell_type": "markdown",
   "metadata": {},
   "source": [
    "# Mobius Finances"
   ]
  },
  {
   "cell_type": "markdown",
   "metadata": {},
   "source": [
    "## The History of Music Sales"
   ]
  },
  {
   "cell_type": "code",
   "execution_count": 3,
   "metadata": {},
   "outputs": [],
   "source": [
    "# nbi:hide_in\n",
    "import ipywidgets as widgets\n",
    "import nbinteract as nbi\n",
    "import pandas as pd\n",
    "from scipy.special import gamma\n",
    "import numpy as np"
   ]
  },
  {
   "cell_type": "code",
   "execution_count": 4,
   "metadata": {},
   "outputs": [
    {
     "data": {
      "application/vnd.jupyter.widget-view+json": {
       "model_id": "06efc7c8a4664eb4af0f9c5d01918efd",
       "version_major": 2,
       "version_minor": 0
      },
      "text/plain": [
       "Image(value=b'\\x89PNG\\r\\n\\x1a\\n\\x00\\x00\\x00\\rIHDR\\x00\\x00\\x02\\xc1\\x00\\x00\\x01r\\x08\\x02\\x00\\x00\\x00\\x9be\\x90e\\x…"
      ]
     },
     "metadata": {},
     "output_type": "display_data"
    }
   ],
   "source": [
    "#nbi:hide_in\n",
    "file2 = open(\"physical-vs-digital.png\", \"rb\")\n",
    "image2 = file2.read()\n",
    "widgets.Image(\n",
    "    value=image2,\n",
    "    format='png',\n",
    "    width=570,\n",
    "    height=400,\n",
    ")"
   ]
  },
  {
   "cell_type": "markdown",
   "metadata": {},
   "source": [
    "The advent of technology and the ability to stream or download digital music in the early 2000's, with platforms such as Napster and Apple ushering in a new paradigm of distribution, brought with it a moral question to listeners, to buy or pirate. It seems that the reality present is that music listeners now feel that music should be free, as the next 20 years saw revenues drop steadily. Companies like Spotify have been moderately successful at collecting the pieces of a shattered informational property based industry by making it possible to spend a few pennies each year and gain access to 611 billion streamable songs. Though there is a great population of people tallying up on average about 32 hours of listening per week each, low costs for a huge library has Apple Music only paying $0.00437 per stream (see below). The artists making a living off of their contributions to cultural and mental wellbeing of the world have had to certainly make the most of other income streams if they aren't somewhere near the top."
   ]
  },
  {
   "cell_type": "code",
   "execution_count": 29,
   "metadata": {},
   "outputs": [
    {
     "data": {
      "application/vnd.jupyter.widget-view+json": {
       "model_id": "b4b2f11fd6ce447b83c9592f9035d212",
       "version_major": 2,
       "version_minor": 0
      },
      "text/plain": [
       "Image(value=b'\\x89PNG\\r\\n\\x1a\\n\\x00\\x00\\x00\\rIHDR\\x00\\x00\\x02\\xee\\x00\\x00\\x00\\xbd\\x08\\x02\\x00\\x00\\x00c\\xfao\\xe…"
      ]
     },
     "metadata": {},
     "output_type": "display_data"
    }
   ],
   "source": [
    "# nbi:hide_in\n",
    "file = open(\"Streaming-Music-Payouts.png\", \"rb\")\n",
    "image = file.read()\n",
    "widgets.Image(\n",
    "    value=image,\n",
    "    format='png',\n",
    "    width=600,\n",
    "    height=500,\n",
    ")"
   ]
  },
  {
   "cell_type": "markdown",
   "metadata": {},
   "source": [
    "One of the biggest problems with this system of a per-stream payout is that on all platforms, the play of a Taylor Swift song is worth the same as a play of a musician who only reaches '<1000' plays for most of their songs. What Mobius seeks to do is appropriately divert income to artists that are creating high quality music by allowing listeners to more accurately decide where their yearly investment in the music industry goes. The system invisioned creates an incentive for artists to create more cheap merchandise that can be purchased to establish consumers as platform-recognized 'fans'. The thought being that a greater monetary and exposure-based profit margin is found in physical merchandise rather than number of plays, especially for creators with smaller audiences bound to a more limited geographic presence. \n",
    "\n",
    "This 'fan' status earns streaming priveledges for an artist-decided time period (upon registering through Mobius, we will be sending economic reports including business suggestions derived using machine learning algorithms and comparisons amongst the varying market climates). The vision is that after a certain number of, again artist distinguished, checkpoints, the fan gains eternal access to the streaming library of that artist, along with the merchandise, concert experiences and digital downloads that 'earned' a publicly represented 'fan' status. Looking generally shows that a fan needs to spend a minimum to earn access to the library for life, whether an artist decides to gift downloads of their collection conditionally is entirely up to their business--knowing that offline/out-of-service/battery-saving-airplane-mode listening is a critical to many consumers. "
   ]
  },
  {
   "cell_type": "code",
   "execution_count": null,
   "metadata": {},
   "outputs": [],
   "source": [
    "# nbi:hide_in\n",
    "file = open(\"Streaming-Music-Payouts.png\", \"rb\")\n",
    "image = file.read()\n",
    "widgets.Image(\n",
    "    value=image,\n",
    "    format='png',\n",
    "    width=600,\n",
    "    height=500,\n",
    ")"
   ]
  },
  {
   "cell_type": "markdown",
   "metadata": {},
   "source": [
    "## A Basic Model"
   ]
  },
  {
   "cell_type": "markdown",
   "metadata": {},
   "source": [
    "To look at a consumer based estimate of potential income, we assume that in a given year there exists well over 150$ of material worth purchasing and begin by estimating a probability distribution of consumer spending within that constraint. "
   ]
  },
  {
   "cell_type": "code",
   "execution_count": 27,
   "metadata": {},
   "outputs": [
    {
     "data": {
      "application/vnd.jupyter.widget-view+json": {
       "model_id": "f2889ee607a64bfc8dacfb7d3814f240",
       "version_major": 2,
       "version_minor": 0
      },
      "text/plain": [
       "VBox(children=(interactive(children=(IntSlider(value=25000, description='consumers', max=50000, min=1), IntSli…"
      ]
     },
     "metadata": {},
     "output_type": "display_data"
    }
   ],
   "source": [
    "# nbi:hide_in\n",
    "\n",
    "def beta_samp(consumers,alpha,beta,max_spent):\n",
    "    number = consumers\n",
    "    ssample = max_spent * np.random.beta(alpha,beta,number)\n",
    "    income = sum(ssample)\n",
    "    avg_spent = income/number\n",
    "    print('Total Spent on Mobius given',number,'consumers:',round(income,2),'$')\n",
    "    print('AVG Spent by Fan:',round(avg_spent,2),'$')\n",
    "    return ssample\n",
    "\n",
    "opt = {'bins':30,'title': 'Sampling a Distribution of User Spending in 1 Year','xlabel':'$ Spent in Year','xlim':(0,160), 'animation_duration':50}\n",
    "nbi.hist(beta_samp, options=opt,consumers=(1,50000),alpha=(1,5),beta=(1,10),max_spent=(50,150))"
   ]
  },
  {
   "cell_type": "markdown",
   "metadata": {},
   "source": [
    "### Now projected over 5 years with variable growth\n",
    "Take the alpha, beta & max_spent values you decided on above and implement them below, this interactive plot shows the projected amount spent on the platform over 5 years given a Beta distribution of consumers. \n",
    "\n",
    "* The Fan_G variable is a growth rate that relates to how many listeners are adopting the new technology (a value of 1 corresponds to each consumer attracting 1 new consumer the next year), it is assumed that 500 people will be interested enough to spend the equivalent cost of one night out, on content or merchandise, in the first year.\n",
    "\n",
    "* The Spending_G variable modifies the max_spent variable. A greater than 0 value implies that listeners will start spending more on artists' content once streaming rights and merchandise sales are connected. A smaller variability is expected."
   ]
  },
  {
   "cell_type": "code",
   "execution_count": 12,
   "metadata": {},
   "outputs": [
    {
     "data": {
      "application/vnd.jupyter.widget-view+json": {
       "model_id": "8a8a4cb0acf24b3bbc354a6e1257d6de",
       "version_major": 2,
       "version_minor": 0
      },
      "text/plain": [
       "VBox(children=(interactive(children=(IntSlider(value=3, description='Alpha', max=5, min=1), IntSlider(value=5,…"
      ]
     },
     "metadata": {},
     "output_type": "display_data"
    }
   ],
   "source": [
    "# nbi:hide_in\n",
    "def x_s(): \n",
    "    year = [2019]\n",
    "    for i in np.linspace(1,4,4):\n",
    "        year_i = 2019+i\n",
    "        year = np.append(year,year_i)\n",
    "    return year\n",
    "\n",
    "def y_s(Years,Alpha,Beta,Max_Spent,Fan_G,Spending_G):\n",
    "    a = Alpha\n",
    "    b = Beta\n",
    "    ms = Max_Spent\n",
    "    g_f = Fan_G\n",
    "    g_s = Spending_G\n",
    "    \n",
    "    sample_1 = np.random.beta(a,b,500)\n",
    "    sp_1 = np.round(sample_1*ms,2)\n",
    "    sp = pd.DataFrame(data=[sp_1])\n",
    "    prof = [sum(sp_1)]\n",
    "    for i in np.linspace(1,4,4):\n",
    "        numb_g = int(500*(1+g_f)**i)\n",
    "        spen_g = int(ms*(1+g_s)**i)\n",
    "        sample_i = np.random.beta(a,b,numb_g)\n",
    "        spen = np.round(sample_i*spen_g,2)\n",
    "        pr_i = sum(spen)\n",
    "        sp_i = pd.DataFrame([spen])\n",
    "        prof = np.append(prof,pr_i)\n",
    "        sp = sp.append(sp_i)\n",
    "        \n",
    "    five_yrincome = sum(prof)\n",
    "    avg_spent_1 = prof[0]/500\n",
    "    avg_spent_5 = prof[4]/numb_g\n",
    "    fa = 500\n",
    "    print('AVG Spent by Fan in 2019/2023:', round(avg_spent_1,2),'$ /',round(avg_spent_5,2),'$')\n",
    "    print('Number of Fans in 1st / 5th year:',fa,'/',numb_g)\n",
    "    print('Total Dollars Spent on Mobius in 5 years:',round(five_yrincome,2),'$')\n",
    "    print('Cummulative Profit through 5 years:',round(0.1*five_yrincome,2),'$')\n",
    "    return prof\n",
    "   \n",
    "    \n",
    "opts = {\n",
    "    'xlabel': 'Year',\n",
    "    'title': 'Total Spent on Mobius ($)',\n",
    "}\n",
    "\n",
    "nbi.bar(x_s, y_s, Alpha = (1,5), Beta = (1,10), Max_Spent = (50,150), Fan_G = (0.1,4), Spending_G = (-0.1,0.1,.01), options=opts)"
   ]
  }
 ],
 "metadata": {
  "kernelspec": {
   "display_name": "Python 3",
   "language": "python",
   "name": "python3"
  },
  "language_info": {
   "codemirror_mode": {
    "name": "ipython",
    "version": 3
   },
   "file_extension": ".py",
   "mimetype": "text/x-python",
   "name": "python",
   "nbconvert_exporter": "python",
   "pygments_lexer": "ipython3",
   "version": "3.7.3"
  }
 },
 "nbformat": 4,
 "nbformat_minor": 2
}
